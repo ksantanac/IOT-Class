{
 "cells": [
  {
   "cell_type": "code",
   "execution_count": 7,
   "metadata": {},
   "outputs": [
    {
     "name": "stdout",
     "output_type": "stream",
     "text": [
      "    Cliente          Produto    Categoria\n",
      "0  Cliente1       Smartphone  Eletrônicos\n",
      "1  Cliente2         Notebook  Eletrônicos\n",
      "2  Cliente3       Smartwatch  Eletrônicos\n",
      "3  Cliente4           Tablet  Eletrônicos\n",
      "4  Cliente5  Fones de Ouvido  Eletrônicos\n",
      "5  Cliente6         Camiseta       Roupas\n",
      "6  Cliente7      Calça Jeans       Roupas\n",
      "7  Cliente8            Blusa       Roupas\n"
     ]
    }
   ],
   "source": [
    "import pandas as pd\n",
    "\n",
    "# Criando a base de dados fictícia\n",
    "data = {\n",
    "    'Cliente': ['Cliente1', 'Cliente2', 'Cliente3', 'Cliente4', 'Cliente5', 'Cliente6', 'Cliente7', 'Cliente8'],\n",
    "    'Produto': ['Smartphone', 'Notebook', 'Smartwatch', 'Tablet', 'Fones de Ouvido', 'Camiseta', 'Calça Jeans', 'Blusa'],\n",
    "    'Categoria': ['Eletrônicos', 'Eletrônicos', 'Eletrônicos', 'Eletrônicos', 'Eletrônicos', 'Roupas', 'Roupas', 'Roupas',]\n",
    "}\n",
    "\n",
    "df = pd.DataFrame(data)\n",
    "\n",
    "# Exibindo a base de dados\n",
    "print(df)\n"
   ]
  },
  {
   "cell_type": "code",
   "execution_count": 13,
   "metadata": {},
   "outputs": [
    {
     "name": "stdout",
     "output_type": "stream",
     "text": [
      "Produtos similares ao 'Tablet': ['Notebook', 'Smartwatch']\n"
     ]
    }
   ],
   "source": [
    "# Função para encontrar os produtos mais similares, considerando a categoria\n",
    "def encontrar_produtos_similares(produto, k=3):\n",
    "    # Obtendo a categoria do produto\n",
    "    categoria_produto = df.loc[df['Produto'] == produto, 'Categoria'].values[0]\n",
    "    \n",
    "    # Filtrando a base de dados para conter apenas produtos da mesma categoria\n",
    "    produtos_categoria = df[df['Categoria'] == categoria_produto]['Produto'].unique()\n",
    "    \n",
    "    # Obtendo os vetores de características dos produtos\n",
    "    vetor_caracteristicas = pd.get_dummies(df['Produto']).values\n",
    "    \n",
    "    # Treinando o modelo KNN\n",
    "    knn_model = NearestNeighbors(n_neighbors=k, algorithm='brute', metric='euclidean')\n",
    "    knn_model.fit(vetor_caracteristicas)\n",
    "    \n",
    "    # Encontrando os vizinhos mais próximos\n",
    "    produto_index = list(produtos_categoria).index(produto)\n",
    "    _, indices = knn_model.kneighbors([vetor_caracteristicas[produto_index]])\n",
    "    \n",
    "    # Extraindo os produtos similares\n",
    "    produtos_similares = [produtos_categoria[i] for i in indices.flatten()]\n",
    "    \n",
    "    return produtos_similares[1:]  # Excluindo o próprio produto da lista de recomendação\n",
    "\n",
    "# Testando o sistema de recomendação\n",
    "produto_comprado = 'Tablet'\n",
    "produtos_recomendados = encontrar_produtos_similares(produto_comprado)\n",
    "print(f\"Produtos similares ao '{produto_comprado}': {produtos_recomendados}\")\n"
   ]
  }
 ],
 "metadata": {
  "kernelspec": {
   "display_name": "base",
   "language": "python",
   "name": "python3"
  },
  "language_info": {
   "codemirror_mode": {
    "name": "ipython",
    "version": 3
   },
   "file_extension": ".py",
   "mimetype": "text/x-python",
   "name": "python",
   "nbconvert_exporter": "python",
   "pygments_lexer": "ipython3",
   "version": "3.11.5"
  }
 },
 "nbformat": 4,
 "nbformat_minor": 2
}
