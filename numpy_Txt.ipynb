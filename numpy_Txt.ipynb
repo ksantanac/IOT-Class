{
 "cells": [
  {
   "attachments": {},
   "cell_type": "markdown",
   "metadata": {},
   "source": [
    "## Formulas para Normalizar e Padronizar"
   ]
  },
  {
   "cell_type": "code",
   "execution_count": null,
   "metadata": {},
   "outputs": [],
   "source": [
    "# Formula da normalização\n",
    "def normalizar(x): # X será uma lista de valores númericos\n",
    "    return (x - np.min(x)) / (np.max(x) - np.min(x))\n",
    "\n",
    "# Formula de padronizar\n",
    "def padronizar(x):\n",
    "    return (x - np.mean(x)) / np.std(x)\n"
   ]
  },
  {
   "cell_type": "code",
   "execution_count": null,
   "metadata": {},
   "outputs": [],
   "source": [
    "df_txt['salario'] = padronizar(df_txt['salario'])\n",
    "\n",
    "df_txt"
   ]
  },
  {
   "attachments": {},
   "cell_type": "markdown",
   "metadata": {},
   "source": [
    "## Exemplos Numpy e TXT\n"
   ]
  },
  {
   "cell_type": "code",
   "execution_count": null,
   "metadata": {},
   "outputs": [],
   "source": [
    "dados = {\n",
    "    'nome' : ['João', 'Maria', 'Kaue'],\n",
    "    'nota' : [10.0, 1.0, 8.5],\n",
    "    'mensalidade' : [1700.0, 2500.0, 1500.0],\n",
    "    'idade' : [20, 25, 28]\n",
    "}"
   ]
  },
  {
   "cell_type": "code",
   "execution_count": null,
   "metadata": {},
   "outputs": [],
   "source": [
    "import pandas as pd\n",
    "\n",
    "df = pd.DataFrame(dados)\n",
    "\n",
    "df"
   ]
  },
  {
   "cell_type": "code",
   "execution_count": null,
   "metadata": {},
   "outputs": [],
   "source": [
    "import numpy as np\n",
    "\n",
    "print(np.mean(df['nota'])) # media\n",
    "print(np.std(df['nota'])) # desvio padrão\n",
    "print(np.max(df['nota'])) # máximo valor da coluna\n",
    "print(np.min(df['nota'])) # menor valor da coluna\n",
    "\n"
   ]
  },
  {
   "cell_type": "code",
   "execution_count": null,
   "metadata": {},
   "outputs": [],
   "source": [
    "normalizar(df['idade'])\n",
    "padronizar(df['idade'])"
   ]
  },
  {
   "cell_type": "code",
   "execution_count": null,
   "metadata": {},
   "outputs": [],
   "source": [
    "df_txt = pd.read_csv(\"funcionarios.txt\", delimiter=',')\n",
    "\n",
    "df_txt = df_txt.drop(columns=['nome'])\n",
    "\n",
    "df_txt = df_txt.dropna()\n",
    "\n",
    "df_txt.head()"
   ]
  },
  {
   "cell_type": "code",
   "execution_count": null,
   "metadata": {},
   "outputs": [],
   "source": [
    "df_txt['idade'] = normalizar(df_txt['idade'])\n",
    "\n",
    "df_txt"
   ]
  },
  {
   "cell_type": "code",
   "execution_count": null,
   "metadata": {},
   "outputs": [],
   "source": []
  }
 ],
 "metadata": {
  "language_info": {
   "name": "python"
  },
  "orig_nbformat": 4
 },
 "nbformat": 4,
 "nbformat_minor": 2
}
