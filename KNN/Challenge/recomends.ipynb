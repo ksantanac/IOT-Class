{
 "cells": [
  {
   "cell_type": "code",
   "execution_count": 7,
   "metadata": {},
   "outputs": [
    {
     "name": "stdout",
     "output_type": "stream",
     "text": [
      "    Cliente          Produto    Categoria\n",
      "0  Cliente1       Smartphone  Eletrônicos\n",
      "1  Cliente2         Notebook  Eletrônicos\n",
      "2  Cliente3       Smartwatch  Eletrônicos\n",
      "3  Cliente4           Tablet  Eletrônicos\n",
      "4  Cliente5  Fones de Ouvido  Eletrônicos\n",
      "5  Cliente6         Camiseta       Roupas\n",
      "6  Cliente7      Calça Jeans       Roupas\n",
      "7  Cliente8            Blusa       Roupas\n"
     ]
    }
   ],
   "source": [
    "import pandas as pd\n",
    "\n",
    "# Criando a base de dados fictícia\n",
    "data = {\n",
    "    'Cliente': ['Cliente1', 'Cliente2', 'Cliente3', 'Cliente4', 'Cliente5', 'Cliente6', 'Cliente7', 'Cliente8'],\n",
    "    'Produto': ['Smartphone', 'Notebook', 'Smartwatch', 'Tablet', 'Fones de Ouvido', 'Camiseta', 'Calça Jeans', 'Blusa'],\n",
    "    'Categoria': ['Eletrônicos', 'Eletrônicos', 'Eletrônicos', 'Eletrônicos', 'Eletrônicos', 'Roupas', 'Roupas', 'Roupas',]\n",
    "}\n",
    "\n",
    "df = pd.DataFrame(data)\n",
    "\n",
    "# Exibindo a base de dados\n",
    "print(df)\n"
   ]
  },
  {
   "cell_type": "code",
   "execution_count": 1,
   "metadata": {},
   "outputs": [
    {
     "ename": "NameError",
     "evalue": "name 'df' is not defined",
     "output_type": "error",
     "traceback": [
      "\u001b[1;31m---------------------------------------------------------------------------\u001b[0m",
      "\u001b[1;31mNameError\u001b[0m                                 Traceback (most recent call last)",
      "Cell \u001b[1;32mIn[1], line 27\u001b[0m\n\u001b[0;32m     25\u001b[0m \u001b[38;5;66;03m# Testando o sistema de recomendação\u001b[39;00m\n\u001b[0;32m     26\u001b[0m produto_comprado \u001b[38;5;241m=\u001b[39m \u001b[38;5;124m'\u001b[39m\u001b[38;5;124mTablet\u001b[39m\u001b[38;5;124m'\u001b[39m\n\u001b[1;32m---> 27\u001b[0m produtos_recomendados \u001b[38;5;241m=\u001b[39m encontrar_produtos_similares(produto_comprado)\n\u001b[0;32m     28\u001b[0m \u001b[38;5;28mprint\u001b[39m(\u001b[38;5;124mf\u001b[39m\u001b[38;5;124m\"\u001b[39m\u001b[38;5;124mProdutos similares ao \u001b[39m\u001b[38;5;124m'\u001b[39m\u001b[38;5;132;01m{\u001b[39;00mproduto_comprado\u001b[38;5;132;01m}\u001b[39;00m\u001b[38;5;124m'\u001b[39m\u001b[38;5;124m: \u001b[39m\u001b[38;5;132;01m{\u001b[39;00mprodutos_recomendados\u001b[38;5;132;01m}\u001b[39;00m\u001b[38;5;124m\"\u001b[39m)\n",
      "Cell \u001b[1;32mIn[1], line 4\u001b[0m, in \u001b[0;36mencontrar_produtos_similares\u001b[1;34m(produto, k)\u001b[0m\n\u001b[0;32m      2\u001b[0m \u001b[38;5;28;01mdef\u001b[39;00m \u001b[38;5;21mencontrar_produtos_similares\u001b[39m(produto, k\u001b[38;5;241m=\u001b[39m\u001b[38;5;241m3\u001b[39m):\n\u001b[0;32m      3\u001b[0m     \u001b[38;5;66;03m# Obtendo a categoria do produto\u001b[39;00m\n\u001b[1;32m----> 4\u001b[0m     categoria_produto \u001b[38;5;241m=\u001b[39m df\u001b[38;5;241m.\u001b[39mloc[df[\u001b[38;5;124m'\u001b[39m\u001b[38;5;124mProduto\u001b[39m\u001b[38;5;124m'\u001b[39m] \u001b[38;5;241m==\u001b[39m produto, \u001b[38;5;124m'\u001b[39m\u001b[38;5;124mCategoria\u001b[39m\u001b[38;5;124m'\u001b[39m]\u001b[38;5;241m.\u001b[39mvalues[\u001b[38;5;241m0\u001b[39m]\n\u001b[0;32m      6\u001b[0m     \u001b[38;5;66;03m# Filtrando a base de dados para conter apenas produtos da mesma categoria\u001b[39;00m\n\u001b[0;32m      7\u001b[0m     produtos_categoria \u001b[38;5;241m=\u001b[39m df[df[\u001b[38;5;124m'\u001b[39m\u001b[38;5;124mCategoria\u001b[39m\u001b[38;5;124m'\u001b[39m] \u001b[38;5;241m==\u001b[39m categoria_produto][\u001b[38;5;124m'\u001b[39m\u001b[38;5;124mProduto\u001b[39m\u001b[38;5;124m'\u001b[39m]\u001b[38;5;241m.\u001b[39munique()\n",
      "\u001b[1;31mNameError\u001b[0m: name 'df' is not defined"
     ]
    }
   ],
   "source": [
    "# Função para encontrar os produtos mais similares, considerando a categoria\n",
    "def encontrar_produtos_similares(produto, k=3):\n",
    "    # Obtendo a categoria do produto\n",
    "    categoria_produto = df.loc[df['Produto'] == produto, 'Categoria'].values[0]\n",
    "    \n",
    "    # Filtrando a base de dados para conter apenas produtos da mesma categoria\n",
    "    produtos_categoria = df[df['Categoria'] == categoria_produto]['Produto'].unique()\n",
    "    \n",
    "    # Obtendo os vetores de características dos produtos\n",
    "    vetor_caracteristicas = pd.get_dummies(df['Produto']).values\n",
    "    \n",
    "    # Treinando o modelo KNN\n",
    "    knn_model = NearestNeighbors(n_neighbors=k, algorithm='brute', metric='euclidean')\n",
    "    knn_model.fit(vetor_caracteristicas)\n",
    "    \n",
    "    # Encontrando os vizinhos mais próximos\n",
    "    produto_index = list(produtos_categoria).index(produto)\n",
    "    _, indices = knn_model.kneighbors([vetor_caracteristicas[produto_index]])\n",
    "    \n",
    "    # Extraindo os produtos similares\n",
    "    produtos_similares = [produtos_categoria[i] for i in indices.flatten()]\n",
    "    \n",
    "    return produtos_similares[1:]  # Excluindo o próprio produto da lista de recomendação\n",
    "\n",
    "# Testando o sistema de recomendação\n",
    "produto_comprado = 'Tablet'\n",
    "produtos_recomendados = encontrar_produtos_similares(produto_comprado)\n",
    "print(f\"Produtos similares ao '{produto_comprado}': {produtos_recomendados}\")\n",
    "\n",
    "#\n"
   ]
  }
 ],
 "metadata": {
  "kernelspec": {
   "display_name": "base",
   "language": "python",
   "name": "python3"
  },
  "language_info": {
   "codemirror_mode": {
    "name": "ipython",
    "version": 3
   },
   "file_extension": ".py",
   "mimetype": "text/x-python",
   "name": "python",
   "nbconvert_exporter": "python",
   "pygments_lexer": "ipython3",
   "version": "3.11.5"
  }
 },
 "nbformat": 4,
 "nbformat_minor": 2
}
